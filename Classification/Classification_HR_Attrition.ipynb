{
  "cells": [
    {
      "cell_type": "markdown",
      "metadata": {
        "id": "HIx1_2cpsQIL"
      },
      "source": [
        "# Classification Problem\n",
        "\n",
        "**Author:** Manaranjan Pradhan</br>\n",
        "**Email ID:** manaranjan@gmail.com</br>\n",
        "**LinkedIn:** https://www.linkedin.com/in/manaranjanpradhan/</br>\n",
        "**Website:** www.manaranjanp.com\n",
        "\n",
        "\n",
        "## 1. HR - Attrition Analytics\n",
        "\n",
        "Human Resources are critical resources of any organiazation. Organizations spend huge amount of time and money to hire and nuture their employees. It is a huge loss for companies if employees leave, especially the key resources. So if HR can predict weather employees are at risk for leaving the company, it will allow them to identify the attrition risks and help understand and provie necessary support to retain those employees or do preventive hiring to minimize the impact to the orgranization.\n",
        "\n",
        "## 2. Data Set\n",
        "\n",
        "This dataset is taken from kaggle https://www.kaggle.com/datasets/jacksonchou/hr-data-for-analytics\n",
        "\n",
        "\n",
        "### 2.1 Dependent variable\n",
        "\n",
        "Left : 0 if employee did not leave , 1 if left company\n",
        "\n",
        "### 2.2 Independent variables\n",
        "\n",
        "- **satisfaction_level** : means how much employee satisfied (0 less satisfied , 1 most satisfied)\n",
        "- **last_evaluation** : means employees' evaluation for last month (0 bad , 1 Excellent)\n",
        "- **number_project** : number of projects the employee worked on\n",
        "- **average_montly_hours** : average months employee spends at work per month\n",
        "- **time_spend_company** : years the employee spent in a company\n",
        "- **Work_accident** : 0 if he did not have an accident , 1 if had at least one\n",
        "- **promotion_last_5years** : 0 if he did not have any promotion in last 5 years , 1 if had at least one\n",
        "- **dept** : department in which employee works\n",
        "- **salary** : High, medium or low bracket"
      ]
    },
    {
      "cell_type": "markdown",
      "metadata": {
        "id": "HYVKi3DasQIN"
      },
      "source": [
        "## 3. Loading Dataset"
      ]
    },
    {
      "cell_type": "code",
      "execution_count": null,
      "metadata": {
        "id": "hBbHjPZKsQIN"
      },
      "outputs": [],
      "source": [
        "import pandas as pd\n",
        "import numpy as np\n",
        "import matplotlib.pyplot as plt\n",
        "import seaborn as sn\n",
        "\n",
        "sn.set_palette(\"tab10\")"
      ]
    },
    {
      "cell_type": "code",
      "execution_count": null,
      "metadata": {
        "id": "vdZPtsdtsQIO"
      },
      "outputs": [],
      "source": [
        "hr_df = pd.read_csv('HR_comma_sep.csv')"
      ]
    },
    {
      "cell_type": "code",
      "execution_count": null,
      "metadata": {
        "id": "Xf_tWjdzsQIO"
      },
      "outputs": [],
      "source": [
        "hr_df.sample(10)"
      ]
    },
    {
      "cell_type": "code",
      "execution_count": null,
      "metadata": {
        "id": "iTPskNBZsQIO"
      },
      "outputs": [],
      "source": [
        "hr_df.average_montly_hours.min(), hr_df.average_montly_hours.max()"
      ]
    },
    {
      "cell_type": "code",
      "execution_count": null,
      "metadata": {
        "id": "xlD0vZRbsQIO"
      },
      "outputs": [],
      "source": [
        "hr_df.info()"
      ]
    },
    {
      "cell_type": "code",
      "execution_count": null,
      "metadata": {
        "id": "-quvFQt3sQIP"
      },
      "outputs": [],
      "source": [
        "hr_df.left.value_counts()"
      ]
    },
    {
      "cell_type": "markdown",
      "metadata": {
        "id": "y8Obh_IJsQIP"
      },
      "source": [
        "## 3. EDA\n",
        "\n",
        "**Question 1**: How satisfcation level influences employee's decision to leave?"
      ]
    },
    {
      "cell_type": "code",
      "execution_count": null,
      "metadata": {
        "id": "MQObjjzXsQIP"
      },
      "outputs": [],
      "source": [
        "plt.figure(figsize=(10, 5))\n",
        "sn.histplot(data = hr_df,\n",
        "            x = 'satisfaction_level',\n",
        "            hue = 'left',\n",
        "            bins = np.arange(0.0, 1.0, 0.1),\n",
        "            multiple=\"stack\");"
      ]
    },
    {
      "cell_type": "markdown",
      "metadata": {
        "id": "iIZMskOOsQIP"
      },
      "source": [
        "**Question 2**: How time spend in the company influences employee's decision to leave?"
      ]
    },
    {
      "cell_type": "code",
      "execution_count": null,
      "metadata": {
        "id": "lsHD3QI9sQIP"
      },
      "outputs": [],
      "source": [
        "plt.figure(figsize=(10, 4))\n",
        "sn.countplot(data = hr_df,\n",
        "             x = 'time_spend_company',\n",
        "             hue = 'left');"
      ]
    },
    {
      "cell_type": "markdown",
      "metadata": {
        "id": "xIEv_NkzsQIP"
      },
      "source": [
        "**Question 3**: Attrition patterns across different departments."
      ]
    },
    {
      "cell_type": "code",
      "execution_count": null,
      "metadata": {
        "id": "bLPFOA5xsQIP"
      },
      "outputs": [],
      "source": [
        "hr_df.dept.unique()"
      ]
    },
    {
      "cell_type": "code",
      "execution_count": null,
      "metadata": {
        "id": "N6z7rm-esQIP"
      },
      "outputs": [],
      "source": [
        "pd.crosstab(hr_df.dept,\n",
        "            hr_df.left,\n",
        "            normalize='index')"
      ]
    },
    {
      "cell_type": "code",
      "execution_count": null,
      "metadata": {
        "id": "AbP5iIrJsQIQ"
      },
      "outputs": [],
      "source": [
        "pd.crosstab(hr_df.Work_accident,\n",
        "            hr_df.left,\n",
        "            normalize='index')"
      ]
    },
    {
      "cell_type": "markdown",
      "metadata": {
        "id": "X62e0qxLsQIQ"
      },
      "source": [
        "## 4. Building a Classification Model\n",
        "\n",
        "First we will build a model with *satisfaction level* with *left*.\n",
        "\n",
        "### Setting X and y Values"
      ]
    },
    {
      "cell_type": "code",
      "execution_count": null,
      "metadata": {
        "id": "wcSssx2SsQIQ"
      },
      "outputs": [],
      "source": [
        "X = hr_df[['satisfaction_level']]\n",
        "y = hr_df.left"
      ]
    },
    {
      "cell_type": "code",
      "execution_count": null,
      "metadata": {
        "id": "F1udZM8osQIQ"
      },
      "outputs": [],
      "source": [
        "X[0:2]"
      ]
    },
    {
      "cell_type": "code",
      "execution_count": null,
      "metadata": {
        "id": "cwsBo9GrsQIQ"
      },
      "outputs": [],
      "source": [
        "y[0:2]"
      ]
    },
    {
      "cell_type": "code",
      "execution_count": null,
      "metadata": {
        "id": "xMeF8Wm-sQIQ"
      },
      "outputs": [],
      "source": [
        "plt.figure(figsize=(10, 4))\n",
        "sn.scatterplot(data = hr_df.sample(100, random_state = 78),\n",
        "               x = 'satisfaction_level',\n",
        "               y = 'left');"
      ]
    },
    {
      "cell_type": "markdown",
      "metadata": {
        "id": "AqODvgC1sQIh"
      },
      "source": [
        "## KNN Classification"
      ]
    },
    {
      "cell_type": "code",
      "execution_count": null,
      "metadata": {
        "id": "lJ7J-mHrsQIh"
      },
      "outputs": [],
      "source": [
        "hr_df.head(5)"
      ]
    },
    {
      "cell_type": "code",
      "execution_count": null,
      "metadata": {
        "id": "UFT8NHEssQIh"
      },
      "outputs": [],
      "source": [
        "sn.scatterplot(hr_df.sample(20, random_state = 20),\n",
        "               x = 'satisfaction_level',\n",
        "               y = 'last_evaluation',\n",
        "               hue = 'left');"
      ]
    },
    {
      "cell_type": "code",
      "execution_count": null,
      "metadata": {
        "id": "NVD3gPXdsQIh"
      },
      "outputs": [],
      "source": [
        "X_features = ['satisfaction_level',\n",
        "              'last_evaluation',\n",
        "              'average_montly_hours',\n",
        "              'time_spend_company']\n",
        "\n",
        "X = hr_df[X_features]\n",
        "\n",
        "y = hr_df.left"
      ]
    },
    {
      "cell_type": "markdown",
      "metadata": {
        "id": "hx4oRVc6sQIQ"
      },
      "source": [
        "### Split Dataset into train and test\n",
        "\n",
        "- Train: 80%\n",
        "- Test: 20%"
      ]
    },
    {
      "cell_type": "code",
      "execution_count": null,
      "metadata": {
        "id": "YJuDpZCMsQIQ"
      },
      "outputs": [],
      "source": [
        "from sklearn.model_selection import train_test_split"
      ]
    },
    {
      "cell_type": "code",
      "execution_count": null,
      "metadata": {
        "id": "bPVuV4fpsQIh"
      },
      "outputs": [],
      "source": [
        "X_train, X_test, y_train, y_test = train_test_split(X, y, train_size = 0.8, random_state = 100)"
      ]
    },
    {
      "cell_type": "code",
      "execution_count": null,
      "metadata": {
        "id": "56wnRDkysQIh"
      },
      "outputs": [],
      "source": [
        "X_train.shape"
      ]
    },
    {
      "cell_type": "code",
      "execution_count": null,
      "metadata": {
        "id": "WFs58o4KsQIh"
      },
      "outputs": [],
      "source": [
        "X_test.shape"
      ]
    },
    {
      "cell_type": "markdown",
      "metadata": {
        "id": "E9KDP4rRsQIh"
      },
      "source": [
        "### Build a KNN Model"
      ]
    },
    {
      "cell_type": "code",
      "execution_count": null,
      "metadata": {
        "id": "4Weox_vUsQIh"
      },
      "outputs": [],
      "source": [
        "from sklearn.neighbors import KNeighborsClassifier"
      ]
    },
    {
      "cell_type": "code",
      "execution_count": null,
      "metadata": {
        "id": "Jn4D7SzhsQIh"
      },
      "outputs": [],
      "source": [
        "knn_v1 = KNeighborsClassifier(n_neighbors = 10)"
      ]
    },
    {
      "cell_type": "code",
      "execution_count": null,
      "metadata": {
        "id": "Zy3rV4u5sQIh"
      },
      "outputs": [],
      "source": [
        "knn_v1.fit(X_train, y_train)"
      ]
    },
    {
      "cell_type": "markdown",
      "metadata": {
        "id": "XBCBggd_sQIf"
      },
      "source": [
        "# 5. Evaluating Classification Models\n",
        "\n",
        "- How many correctly classified from the class of left i.e y = 1.\n",
        "- How many correctly classified from the class of not left i.e y = 0.\n",
        "\n",
        "**Four Scenarios**:\n",
        "\n",
        "| Actual | Predicted | Implications |\n",
        "|---------|----------|--------------|\n",
        "| Left | Left | **Correct Classification** |\n",
        "| Left | Not Left |  **Misclassification**: This failure has higher cost. As the model is not able to identify some employees who are likely to leave.   |\n",
        "| Not Left | Left | **Misclassification**: This failure may not as high cost as the previos one.   |\n",
        "| Not Left | Not Left | **Correct Classification** |\n"
      ]
    },
    {
      "cell_type": "markdown",
      "metadata": {
        "id": "xHygDIAbsQIf"
      },
      "source": [
        "## Confusion Matrix"
      ]
    },
    {
      "cell_type": "code",
      "execution_count": null,
      "metadata": {
        "id": "DSnrVSJ4sQIf"
      },
      "outputs": [],
      "source": [
        "from sklearn.metrics import confusion_matrix, ConfusionMatrixDisplay"
      ]
    },
    {
      "cell_type": "markdown",
      "metadata": {
        "id": "A3ZDIdxWsQIg"
      },
      "source": [
        "### What are different accuracy measures?"
      ]
    },
    {
      "cell_type": "markdown",
      "metadata": {
        "id": "WoZIEFxjsQIg"
      },
      "source": [
        "**Total Accuracy** is defined as how many are correct classification across the complete test sample.\n",
        "\n",
        "$Total Accuracy = ({\\frac {TP + TN}{TP+FP+FN+TN}})$\n",
        "\n",
        "**Precision** is defined as how many are actual positives out of total number of positives identified by the model and is defined as\n",
        "\n",
        "$TPR = ({\\frac {TP}{TP+FP}})$\n",
        "\n",
        "**True Positive Rate (TPR) or Recall or Sensitivity** is how many actual positive are properly identified by the model out of total number actual positive in the test set and is defined as\n",
        "\n",
        "$TPR = ({\\frac {TP}{TP+FN}})$\n",
        "\n",
        "**True Negative Rate (TNR) or Specificity** is how many are correctly indentified as correct negatives out of all acutal negative present in the test set and is defined as\n",
        "\n",
        "$TNR = ({\\frac {TN}{FP+TN}})$\n",
        "\n",
        "**F-Score (F-Measure)** is another measure used in binary logistic regression that combines both precision and recall (harmonic mean of precision and recall) and is given by\n",
        "\n",
        "${F1−score}$ = $({\\frac {2 x Precision x Recall}{ Precision + Recall }})$\n",
        "\n",
        "*classification_report* method in *skearn.metrics* give a detailed report of precision, recall and f1-score for each classes."
      ]
    },
    {
      "cell_type": "markdown",
      "metadata": {
        "id": "TgRZ0d-hsQIh"
      },
      "source": [
        "### Evaluate the model"
      ]
    },
    {
      "cell_type": "code",
      "execution_count": null,
      "metadata": {
        "id": "GbSFsxjgsQIg"
      },
      "outputs": [],
      "source": [
        "from sklearn.metrics import precision_score, recall_score, f1_score, classification_report, accuracy_score"
      ]
    },
    {
      "cell_type": "code",
      "execution_count": null,
      "metadata": {
        "id": "pmIE5LvmsQIh"
      },
      "outputs": [],
      "source": [
        "y_knn_pred = knn_v1.predict(X_test)"
      ]
    },
    {
      "cell_type": "code",
      "execution_count": null,
      "metadata": {
        "id": "Iu0Pfn2bsQIh"
      },
      "outputs": [],
      "source": [
        "y_knn_df = pd.DataFrame({\"actual\" : y_test, \"predicted\": y_knn_pred})"
      ]
    },
    {
      "cell_type": "code",
      "execution_count": null,
      "metadata": {
        "id": "hTZuZkmTsQIh"
      },
      "outputs": [],
      "source": [
        "y_knn_df.sample(10, random_state = 20)"
      ]
    },
    {
      "cell_type": "code",
      "execution_count": null,
      "metadata": {
        "id": "b_pRLV7nsQIi"
      },
      "outputs": [],
      "source": [
        "cm_knn = confusion_matrix(y_knn_df.actual, y_knn_df.predicted, labels = [1, 0])"
      ]
    },
    {
      "cell_type": "code",
      "execution_count": null,
      "metadata": {
        "id": "NKqDyGgJsQIi"
      },
      "outputs": [],
      "source": [
        "cm_knn"
      ]
    },
    {
      "cell_type": "code",
      "execution_count": null,
      "metadata": {
        "id": "ay8oSlOlsQIi"
      },
      "outputs": [],
      "source": [
        "cm_knn_plot = ConfusionMatrixDisplay(cm_knn, display_labels=['Left', 'Not Left'])"
      ]
    },
    {
      "cell_type": "code",
      "execution_count": null,
      "metadata": {
        "id": "wzNnP7EOsQIi"
      },
      "outputs": [],
      "source": [
        "cm_knn_plot.plot();"
      ]
    },
    {
      "cell_type": "code",
      "execution_count": null,
      "metadata": {
        "id": "ftNhV94gsQIi"
      },
      "outputs": [],
      "source": [
        "recall_score(y_knn_df.actual, y_knn_df.predicted)"
      ]
    },
    {
      "cell_type": "code",
      "execution_count": null,
      "metadata": {
        "id": "r6mi2ESTsQIi"
      },
      "outputs": [],
      "source": [
        "print(classification_report(y_knn_df.actual, y_knn_df.predicted))"
      ]
    },
    {
      "cell_type": "markdown",
      "metadata": {
        "id": "33jMZLi6sQIi"
      },
      "source": [
        "### Which is the best K i.e. n_neighbors?"
      ]
    },
    {
      "cell_type": "code",
      "execution_count": null,
      "metadata": {
        "id": "xuCnW78dsQIi"
      },
      "outputs": [],
      "source": [
        "k_vals = list(range(9, 16, 1))"
      ]
    },
    {
      "cell_type": "code",
      "execution_count": null,
      "metadata": {
        "id": "QiRIsdY3sQIi"
      },
      "outputs": [],
      "source": [
        "k_vals"
      ]
    },
    {
      "cell_type": "code",
      "execution_count": null,
      "metadata": {
        "id": "3faSnaPpsQIi"
      },
      "outputs": [],
      "source": [
        "from sklearn.metrics import recall_score"
      ]
    },
    {
      "cell_type": "code",
      "execution_count": null,
      "metadata": {
        "id": "0c8th09XsQIi"
      },
      "outputs": [],
      "source": [
        "for k in k_vals:\n",
        "    knn_v1 = KNeighborsClassifier(n_neighbors = k)\n",
        "    knn_v1.fit(X_train, y_train)\n",
        "    y_knn_pred = knn_v1.predict(X_test)\n",
        "    y_knn_df = pd.DataFrame({\"actual\" : y_test,\n",
        "                             \"predicted\": y_knn_pred})\n",
        "    recall_val = recall_score(y_knn_df.actual,\n",
        "                                y_knn_df.predicted)\n",
        "    print(f\"for n_neighbors: {k} - recall score: {round(recall_val, 3)}\")"
      ]
    },
    {
      "cell_type": "markdown",
      "source": [
        "## Decision Tree"
      ],
      "metadata": {
        "id": "Pri794izuSGl"
      }
    },
    {
      "cell_type": "code",
      "source": [
        "from sklearn.tree import DecisionTreeClassifier"
      ],
      "metadata": {
        "id": "3ZrmIuKBuV6W"
      },
      "execution_count": null,
      "outputs": []
    },
    {
      "cell_type": "code",
      "source": [
        "tree= DecisionTreeClassifier( max_depth = 5 )"
      ],
      "metadata": {
        "id": "OhyEmsYTuXe1"
      },
      "execution_count": null,
      "outputs": []
    },
    {
      "cell_type": "code",
      "source": [
        "tree.fit( X_train, y_train )"
      ],
      "metadata": {
        "id": "-d7nswbiuY7o"
      },
      "execution_count": null,
      "outputs": []
    },
    {
      "cell_type": "code",
      "source": [
        "y_tree_pred = tree.predict( X_test )"
      ],
      "metadata": {
        "id": "OA2W3y-WuayL"
      },
      "execution_count": null,
      "outputs": []
    },
    {
      "cell_type": "code",
      "source": [
        "accuracy_score(y_test, y_tree_pred)"
      ],
      "metadata": {
        "id": "lmgvee_wud7n"
      },
      "execution_count": null,
      "outputs": []
    },
    {
      "cell_type": "markdown",
      "source": [
        "### Feature Importance"
      ],
      "metadata": {
        "id": "-FwOUvdsu3Id"
      }
    },
    {
      "cell_type": "code",
      "source": [
        "tree.feature_importances_"
      ],
      "metadata": {
        "id": "vqUxPQOUukgc"
      },
      "execution_count": null,
      "outputs": []
    },
    {
      "cell_type": "code",
      "source": [
        "recall_score(y_test, y_tree_pred)"
      ],
      "metadata": {
        "id": "47-wQE-vugxp"
      },
      "execution_count": null,
      "outputs": []
    },
    {
      "cell_type": "code",
      "source": [
        "features_df = pd.DataFrame( { \"features\": X_features,\n",
        "                              \"importance\": tree.feature_importances_ } )"
      ],
      "metadata": {
        "id": "SaZ-HiAIuoy_"
      },
      "execution_count": null,
      "outputs": []
    },
    {
      "cell_type": "code",
      "source": [
        "features_df = features_df.sort_values(\"importance\", ascending = False)"
      ],
      "metadata": {
        "id": "a1Dh-_Y0uq_V"
      },
      "execution_count": null,
      "outputs": []
    },
    {
      "cell_type": "code",
      "source": [
        "features_df['cumsum'] = features_df.importance.cumsum()"
      ],
      "metadata": {
        "id": "pWBcNNY_usqE"
      },
      "execution_count": null,
      "outputs": []
    },
    {
      "cell_type": "code",
      "source": [
        "features_df"
      ],
      "metadata": {
        "id": "JvGC8Q9FuuEJ"
      },
      "execution_count": null,
      "outputs": []
    },
    {
      "cell_type": "markdown",
      "source": [
        "### Visualizing Decision Tree"
      ],
      "metadata": {
        "id": "gQqW5vAsuz5F"
      }
    },
    {
      "cell_type": "code",
      "source": [
        "import matplotlib.pyplot as plt\n",
        "from sklearn.tree import plot_tree"
      ],
      "metadata": {
        "id": "g9sLksM4uwOy"
      },
      "execution_count": null,
      "outputs": []
    },
    {
      "cell_type": "code",
      "source": [
        "plt.figure(figsize = (50, 12))\n",
        "plot_tree(tree,\n",
        "          feature_names = X_features,\n",
        "          class_names = ['Not Left', 'Left'],\n",
        "          filled = True,\n",
        "          fontsize = 10);\n",
        "plt.savefig('tree.png')"
      ],
      "metadata": {
        "id": "_Zdd7U_lux9r"
      },
      "execution_count": null,
      "outputs": []
    },
    {
      "cell_type": "code",
      "source": [],
      "metadata": {
        "id": "SUPRTr73vn1F"
      },
      "execution_count": null,
      "outputs": []
    }
  ],
  "metadata": {
    "kernelspec": {
      "display_name": "Python 3 (ipykernel)",
      "language": "python",
      "name": "python3"
    },
    "language_info": {
      "codemirror_mode": {
        "name": "ipython",
        "version": 3
      },
      "file_extension": ".py",
      "mimetype": "text/x-python",
      "name": "python",
      "nbconvert_exporter": "python",
      "pygments_lexer": "ipython3",
      "version": "3.10.9"
    },
    "colab": {
      "provenance": []
    }
  },
  "nbformat": 4,
  "nbformat_minor": 0
}